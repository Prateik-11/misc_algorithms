{
 "cells": [
  {
   "cell_type": "code",
   "execution_count": 2,
   "metadata": {},
   "outputs": [],
   "source": [
    "from math import sin, cos, log"
   ]
  },
  {
   "cell_type": "code",
   "execution_count": 22,
   "metadata": {},
   "outputs": [
    {
     "name": "stdout",
     "output_type": "stream",
     "text": [
      "[1.0, 1.087778203581061, 1.1789532736629702, 1.2735086971460856, 1.3710009926767353, 1.4710529125372007, 1.5733438978168106, 1.6776010709151583, 1.7835913895099424, 1.8911150457605759, 2.0]\n"
     ]
    }
   ],
   "source": [
    "# Linear Shooting ︻デ═一\n",
    "\n",
    "a = 1\n",
    "b = 2\n",
    "N = 10\n",
    "h = (a - b) / N\n",
    "\n",
    "def f1(x, u1, u2):\n",
    "    return u2\n",
    "def f2(x, u1, u2):\n",
    "    return - (2/x)*u2 + (2/x**2)*u1 + sin(log(x)) / x**2\n",
    "\n",
    "alpha = 1\n",
    "beta = 2\n",
    "\n",
    "c2 = (1/70) * ((8 - 12*sin(log(2))) - 4*cos(log(2)))\n",
    "c1 = 11/10 - c2\n",
    "def y(x):\n",
    "    return (c1 * x) + (c2 / (x**2)) - (3/10) * sin(log(x)) - (1/10) * cos(log(x))\n",
    "\n",
    "u10 = alpha\n",
    "u20 = 0\n",
    "\n",
    "def RK4(a, b, N, u10, u20, f1, f2):\n",
    "    h = (b-a)/N\n",
    "    \n",
    "    t = [None] * (N + 1)\n",
    "    w1 = [None] * (N + 1)\n",
    "    w2 = [None] * (N + 1)\n",
    "    \n",
    "    t[0] = a\n",
    "    w1[0] = u10\n",
    "    w2[0] = u20\n",
    "    \n",
    "    k = [\n",
    "        [None, None],\n",
    "        [None, None],\n",
    "        [None, None],\n",
    "        [None, None]\n",
    "    ]\n",
    "    \n",
    "    for n in range(N):\n",
    "        t[n+1] = a + n*h\n",
    "        \n",
    "        k[0][0] = h * f1( t[n], w1[n], w2[n] )\n",
    "        k[0][1] = h * f2( t[n], w1[n], w2[n] )\n",
    "    \n",
    "        k[1][0] = h * f1( t[n] + h/2, w1[n] + (1/2)*k[0][0], w2[n] + (1/2)*k[0][1] )\n",
    "        k[1][1] = h * f2( t[n] + h/2, w1[n] + (1/2)*k[0][0], w2[n] + (1/2)*k[0][1] )\n",
    "        \n",
    "        k[2][0] = h * f1( t[n] + h/2, w1[n] + (1/2)*k[1][0], w2[n] + (1/2)*k[1][1] )\n",
    "        k[2][1] = h * f2( t[n] + h/2, w1[n] + (1/2)*k[1][0], w2[n] + (1/2)*k[1][1] )\n",
    "    \n",
    "        k[3][0] = h * f1( t[n+1], w1[n] + k[2][0], w2[n] + k[2][1] )\n",
    "        k[3][1] = h * f2( t[n+1], w1[n] + k[2][0], w2[n] + k[2][1] )\n",
    "    \n",
    "        w1[n+1] = w1[n] + (1/6)*( k[0][0] + 2*k[1][0] + 2*k[2][0] + k[3][0] )\n",
    "        w2[n+1] = w2[n] + (1/6)*( k[0][1] + 2*k[1][1] + 2*k[2][1] + k[3][1] )\n",
    "    \n",
    "    return (t, w1, w2)\n",
    "\n",
    "_, v1, v2 = RK4(a, b, N, u10,u20, f1, f2)\n",
    "\n",
    "u10 = alpha\n",
    "u20 = 1\n",
    "\n",
    "t, w1, w2 = RK4(a, b, N, u10,u20, f1, f2)\n",
    "\n",
    "lambda_ = (beta - w1[N]) / (v1[N] - w1[N])\n",
    "\n",
    "z1 = []\n",
    "for i in range(len(v1)):\n",
    "    z1.append(lambda_ * v1[i] + (1 - lambda_) * w1[i])\n",
    "\n",
    "ys = []\n",
    "for i in range(1,11):\n",
    "    # print(z1[i] - y(t[i]))\n",
    "    ys.append(y(t[i]))\n",
    "\n",
    "print(z1)"
   ]
  }
 ],
 "metadata": {
  "kernelspec": {
   "display_name": "Python 3.9.7 ('base')",
   "language": "python",
   "name": "python3"
  },
  "language_info": {
   "codemirror_mode": {
    "name": "ipython",
    "version": 3
   },
   "file_extension": ".py",
   "mimetype": "text/x-python",
   "name": "python",
   "nbconvert_exporter": "python",
   "pygments_lexer": "ipython3",
   "version": "3.9.7"
  },
  "orig_nbformat": 4,
  "vscode": {
   "interpreter": {
    "hash": "f96c0a065a6f038b4d81e02ec5e62503dd3b71442db074018719e130d8db16de"
   }
  }
 },
 "nbformat": 4,
 "nbformat_minor": 2
}
